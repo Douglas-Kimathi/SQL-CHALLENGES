{
  "nbformat": 4,
  "nbformat_minor": 0,
  "metadata": {
    "colab": {
      "provenance": []
    },
    "kernelspec": {
      "name": "python3",
      "display_name": "Python 3"
    },
    "language_info": {
      "name": "python"
    }
  },
  "cells": [
    {
      "cell_type": "code",
      "execution_count": 2,
      "metadata": {
        "colab": {
          "base_uri": "https://localhost:8080/"
        },
        "id": "puXNPgW64Px-",
        "outputId": "13b2c148-186d-499f-acf5-d6a0d0822f68"
      },
      "outputs": [
        {
          "output_type": "stream",
          "name": "stdout",
          "text": [
            "Collecting pymysql\n",
            "  Downloading PyMySQL-1.1.0-py3-none-any.whl (44 kB)\n",
            "\u001b[?25l     \u001b[90m━━━━━━━━━━━━━━━━━━━━━━━━━━━━━━━━━━━━━━━━\u001b[0m \u001b[32m0.0/44.8 kB\u001b[0m \u001b[31m?\u001b[0m eta \u001b[36m-:--:--\u001b[0m\r\u001b[2K     \u001b[90m━━━━━━━━━━━━━━━━━━━━━━━━━━━━━━━━━━━━━━━━\u001b[0m \u001b[32m44.8/44.8 kB\u001b[0m \u001b[31m1.3 MB/s\u001b[0m eta \u001b[36m0:00:00\u001b[0m\n",
            "\u001b[?25hInstalling collected packages: pymysql\n",
            "Successfully installed pymysql-1.1.0\n"
          ]
        }
      ],
      "source": [
        "!pip install pymysql"
      ]
    },
    {
      "cell_type": "code",
      "source": [
        "%load_ext sql"
      ],
      "metadata": {
        "id": "G6oSKHYC4cWl"
      },
      "execution_count": 3,
      "outputs": []
    },
    {
      "cell_type": "code",
      "source": [
        "%%sql\n",
        "sqlite:///Project1.db"
      ],
      "metadata": {
        "id": "PovDK_hd4i2a"
      },
      "execution_count": 4,
      "outputs": []
    },
    {
      "cell_type": "code",
      "source": [
        "%%sql\n",
        "CREATE TABLE beneficiary_partner_data (\n",
        "partner_id INTEGER NOT NULL PRIMARY KEY,\n",
        "partner VARCHAR(30) NOT NULL,\n",
        "village VARCHAR(30) NOT NULL,\n",
        "beneficiaries INTEGER,\n",
        "beneficiary_type VARCHAR(30)\n",
        ");"
      ],
      "metadata": {
        "colab": {
          "base_uri": "https://localhost:8080/"
        },
        "id": "AnRqQIp54vC6",
        "outputId": "c70f99d7-effe-4447-8b1e-4becdeca3128"
      },
      "execution_count": 5,
      "outputs": [
        {
          "output_type": "stream",
          "name": "stdout",
          "text": [
            " * sqlite:///Project1.db\n",
            "Done.\n"
          ]
        },
        {
          "output_type": "execute_result",
          "data": {
            "text/plain": [
              "[]"
            ]
          },
          "metadata": {},
          "execution_count": 5
        }
      ]
    },
    {
      "cell_type": "code",
      "source": [
        "%%sql\n",
        "CREATE TABLE village_locations (\n",
        "    village_id INTEGER NOT NULL PRIMARY KEY,\n",
        "    village VARCHAR(30) NOT NULL,\n",
        "    latitude VARCHAR(30),\n",
        "    longitude VARCHAR(30),\n",
        "    total_population INTEGER\n",
        ");"
      ],
      "metadata": {
        "colab": {
          "base_uri": "https://localhost:8080/"
        },
        "id": "B1fhDV3G5CDi",
        "outputId": "f1e12dbf-7062-4580-c77a-3d795580d650"
      },
      "execution_count": 6,
      "outputs": [
        {
          "output_type": "stream",
          "name": "stdout",
          "text": [
            " * sqlite:///Project1.db\n",
            "Done.\n"
          ]
        },
        {
          "output_type": "execute_result",
          "data": {
            "text/plain": [
              "[]"
            ]
          },
          "metadata": {},
          "execution_count": 6
        }
      ]
    },
    {
      "cell_type": "code",
      "source": [
        "%%sql\n",
        "CREATE TABLE jurisdiction_hierarchy (\n",
        "    jurisdiction_id INTEGER NOT NULL PRIMARY KEY,\n",
        "    jurisdiction VARCHAR(30) NOT NULL,\n",
        "    jurisdiction_type VARCHAR(30) NOT NULL,\n",
        "    parent_jurisdiction VARCHAR(30)\n",
        ");"
      ],
      "metadata": {
        "colab": {
          "base_uri": "https://localhost:8080/"
        },
        "id": "rAaFm-QZRp2L",
        "outputId": "69a324e0-ac8b-4aa5-af81-27eac0c62c7a"
      },
      "execution_count": 7,
      "outputs": [
        {
          "output_type": "stream",
          "name": "stdout",
          "text": [
            " * sqlite:///Project1.db\n",
            "Done.\n"
          ]
        },
        {
          "output_type": "execute_result",
          "data": {
            "text/plain": [
              "[]"
            ]
          },
          "metadata": {},
          "execution_count": 7
        }
      ]
    },
    {
      "cell_type": "code",
      "source": [
        "%%sql\n",
        "INSERT INTO jurisdiction_hierarchy VALUES(1,'Middle Shabelle','Region',NULL);\n",
        "INSERT INTO jurisdiction_hierarchy VALUES(2,'Hiraan','Region',NULL);\n",
        "INSERT INTO jurisdiction_hierarchy VALUES(3,'Balcad','District','Middle Shabelle');\n",
        "INSERT INTO jurisdiction_hierarchy VALUES(4,'Jowhar','District','Middle Shabelle');\n",
        "INSERT INTO jurisdiction_hierarchy VALUES(5,'Beledweyn','District','Hiraan');\n",
        "INSERT INTO jurisdiction_hierarchy VALUES(6,'Dharkenley','Village','Beledweyn');\n",
        "INSERT INTO jurisdiction_hierarchy VALUES(7,'Bulo-Kahin','Village','Beledweyn');\n",
        "INSERT INTO jurisdiction_hierarchy VALUES(8,'Hilo Kelyo','Village','Beledweyn');\n",
        "INSERT INTO jurisdiction_hierarchy VALUES(9,'Xubow','Village','Beledweyn');\n",
        "INSERT INTO jurisdiction_hierarchy VALUES(10,'Xiintooy','Village','Beledweyn');\n",
        "INSERT INTO jurisdiction_hierarchy VALUES(11,'Dhagax Jebis','Village','Beledweyn');\n",
        "INSERT INTO jurisdiction_hierarchy VALUES(12,'Filtare','Village','Beledweyn');\n",
        "INSERT INTO jurisdiction_hierarchy VALUES(13,'Howl-Wadaag','Village','Beledweyn');\n",
        "INSERT INTO jurisdiction_hierarchy VALUES(14,'Balcad','Village','Balcad');\n",
        "INSERT INTO jurisdiction_hierarchy VALUES(15,'Mareeray','Village','Balcad');\n",
        "INSERT INTO jurisdiction_hierarchy VALUES(16,'Kulmis','Village','Balcad');\n",
        "INSERT INTO jurisdiction_hierarchy VALUES(17,'Sabuun','Village','Jowhar');\n",
        "INSERT INTO jurisdiction_hierarchy VALUES(18,'Bayaxaw','Village','Jowhar');"
      ],
      "metadata": {
        "colab": {
          "base_uri": "https://localhost:8080/"
        },
        "id": "c5RpMeq35Lba",
        "outputId": "030f8002-7506-4c78-9071-58a912696da4"
      },
      "execution_count": 8,
      "outputs": [
        {
          "output_type": "stream",
          "name": "stdout",
          "text": [
            " * sqlite:///Project1.db\n",
            "1 rows affected.\n",
            "1 rows affected.\n",
            "1 rows affected.\n",
            "1 rows affected.\n",
            "1 rows affected.\n",
            "1 rows affected.\n",
            "1 rows affected.\n",
            "1 rows affected.\n",
            "1 rows affected.\n",
            "1 rows affected.\n",
            "1 rows affected.\n",
            "1 rows affected.\n",
            "1 rows affected.\n",
            "1 rows affected.\n",
            "1 rows affected.\n",
            "1 rows affected.\n",
            "1 rows affected.\n",
            "1 rows affected.\n"
          ]
        },
        {
          "output_type": "execute_result",
          "data": {
            "text/plain": [
              "[]"
            ]
          },
          "metadata": {},
          "execution_count": 8
        }
      ]
    },
    {
      "cell_type": "code",
      "source": [
        "%%sql\n",
        "INSERT INTO village_locations(village_id, village,latitude,longitude, total_population) VALUES(1,'Dharkenley','4°47''35.40\"','45°12''28.80\"',12800);\n",
        "INSERT INTO village_locations(village_id, village,latitude,longitude, total_population) VALUES(2,'Bulo-Kahin','4°47''57.00\"','45°11''5.70\"',9485);\n",
        "INSERT INTO village_locations(village_id, village,latitude,longitude, total_population) VALUES(3,'Hilo Kelyo','4°47''57.00\"','45°12''58.60\"',5212);\n",
        "INSERT INTO village_locations(village_id, village,latitude,longitude, total_population) VALUES(4,'Xubow','4°46''46.77\"','45°12''7.57\"',2558);\n",
        "INSERT INTO village_locations(village_id, village,latitude,longitude, total_population) VALUES(5,'Xiintooy','4°44''14.40\"','45°13''5.00\"',3850);\n",
        "INSERT INTO village_locations(village_id, village,latitude,longitude, total_population) VALUES(6,'Dhagax Jebis','4°44''27.86\"','45°12''42.03\"',3563);\n",
        "INSERT INTO village_locations(village_id, village,latitude,longitude, total_population) VALUES(7,'Filtare','4°44''20.43\"','45°12''27.89\"',8000);\n",
        "INSERT INTO village_locations(village_id, village,latitude,longitude, total_population) VALUES(8,'Howl-Wadaag','4°43''50.00\"','45°11''58.20\"',7525);\n",
        "INSERT INTO village_locations(village_id, village,latitude,longitude, total_population) VALUES(9,'Balcad','2°21.624''','45°23.928''',1500);\n",
        "INSERT INTO village_locations(village_id, village,latitude,longitude, total_population) VALUES(10,'Mareeray','2°23.504''','45°25.200''',7500);\n",
        "INSERT INTO village_locations(village_id, village,latitude,longitude, total_population) VALUES(11,'Kulmis','2°36.761''','45°30.642''',6058);\n",
        "INSERT INTO village_locations(village_id, village,latitude,longitude, total_population) VALUES(12,'Sabuun','2°53.020''','45°32.356''',5483);\n",
        "INSERT INTO village_locations(village_id, village,latitude,longitude, total_population) VALUES(13,'Bayaxaw','2°44.768''','45°29.727''',3000);\n",
        "INSERT INTO village_locations(village_id, village,latitude,longitude, total_population) VALUES(14,'Bayaxawo','2°44.768''','45°29.926''',7560);\n"
      ],
      "metadata": {
        "colab": {
          "base_uri": "https://localhost:8080/"
        },
        "id": "UCR4yYg7RzHz",
        "outputId": "8a4c710e-0301-488d-ded5-700a43e32fa5"
      },
      "execution_count": 9,
      "outputs": [
        {
          "output_type": "stream",
          "name": "stdout",
          "text": [
            " * sqlite:///Project1.db\n",
            "1 rows affected.\n",
            "1 rows affected.\n",
            "1 rows affected.\n",
            "1 rows affected.\n",
            "1 rows affected.\n",
            "1 rows affected.\n",
            "1 rows affected.\n",
            "1 rows affected.\n",
            "1 rows affected.\n",
            "1 rows affected.\n",
            "1 rows affected.\n",
            "1 rows affected.\n",
            "1 rows affected.\n",
            "1 rows affected.\n"
          ]
        },
        {
          "output_type": "execute_result",
          "data": {
            "text/plain": [
              "[]"
            ]
          },
          "metadata": {},
          "execution_count": 9
        }
      ]
    },
    {
      "cell_type": "code",
      "source": [
        "%%sql\n",
        "INSERT INTO beneficiary_partner_data(partner_id,partner,village,beneficiaries,beneficiary_type) VALUES(1,'IRC','Balcad','1450','Individuals');\n",
        "INSERT INTO beneficiary_partner_data(partner_id,partner,village,beneficiaries,beneficiary_type) VALUES(2,'NRC','Balcad','50','Households');\n",
        "INSERT INTO beneficiary_partner_data(partner_id,partner,village,beneficiaries,beneficiary_type) VALUES(3,'SCI','Balcad','1123','Individuals');\n",
        "INSERT INTO beneficiary_partner_data(partner_id,partner,village,beneficiaries,beneficiary_type) VALUES(4,'IMC','Balcad','1245','Individuals');\n",
        "INSERT INTO beneficiary_partner_data(partner_id,partner,village,beneficiaries,beneficiary_type) VALUES(5,'SCI','Mareeray','5200','Individuals');\n",
        "INSERT INTO beneficiary_partner_data(partner_id,partner,village,beneficiaries,beneficiary_type) VALUES(6,'IMC','Mareeray','70','Households');\n",
        "INSERT INTO beneficiary_partner_data(partner_id,partner,village,beneficiaries,beneficiary_type) VALUES(7,'IRC','Mareeray','2100','Individuals');\n",
        "INSERT INTO beneficiary_partner_data(partner_id,partner,village,beneficiaries,beneficiary_type) VALUES(8,'CESVI','Mareeray','1800','Individuals');\n",
        "INSERT INTO beneficiary_partner_data(partner_id,partner,village,beneficiaries,beneficiary_type) VALUES(9,'SCI','Kulmis','1340','Individuals');\n",
        "INSERT INTO beneficiary_partner_data(partner_id,partner,village,beneficiaries,beneficiary_type) VALUES(10,'IMC','Kulmis','55','Households');\n",
        "INSERT INTO beneficiary_partner_data(partner_id,partner,village,beneficiaries,beneficiary_type) VALUES(11,'SCI','Kulmis','4500','Individuals');\n",
        "INSERT INTO beneficiary_partner_data(partner_id,partner,village,beneficiaries,beneficiary_type) VALUES(12,'IMC','Kulmis','1670','Individuals');\n",
        "INSERT INTO beneficiary_partner_data(partner_id,partner,village,beneficiaries,beneficiary_type) VALUES(13,'IMC','Sabuun','1340','Individuals');\n",
        "INSERT INTO beneficiary_partner_data(partner_id,partner,village,beneficiaries,beneficiary_type) VALUES(14,'IRC','Sabuun','66','Households');\n",
        "INSERT INTO beneficiary_partner_data(partner_id,partner,village,beneficiaries,beneficiary_type) VALUES(15,'CESVI','Sabuun','4090','Individuals');\n",
        "INSERT INTO beneficiary_partner_data(partner_id,partner,village,beneficiaries,beneficiary_type) VALUES(16,'SCI','Sabuun','2930','Individuals');\n",
        "INSERT INTO beneficiary_partner_data(partner_id,partner,village,beneficiaries,beneficiary_type) VALUES(17,'IMC','Bayaxaw','2800','Individuals');\n",
        "INSERT INTO beneficiary_partner_data(partner_id,partner,village,beneficiaries,beneficiary_type) VALUES(18,'IRC','Bayaxaw','2100','Individuals');\n",
        "INSERT INTO beneficiary_partner_data(partner_id,partner,village,beneficiaries,beneficiary_type) VALUES(19,'CESVI','Bayaxaw','45','Households');\n",
        "INSERT INTO beneficiary_partner_data(partner_id,partner,village,beneficiaries,beneficiary_type) VALUES(20,'SCI','Bayaxaw','1700','Individuals');\n",
        "INSERT INTO beneficiary_partner_data(partner_id,partner,village,beneficiaries,beneficiary_type) VALUES(21,'SCI','Bayaxawo','5900','Individuals');\n",
        "INSERT INTO beneficiary_partner_data(partner_id,partner,village,beneficiaries,beneficiary_type) VALUES(22,'IMC','Bayaxawo','40','Households');\n",
        "INSERT INTO beneficiary_partner_data(partner_id,partner,village,beneficiaries,beneficiary_type) VALUES(23,'IRC','Bayaxawo','1500','Individuals');\n",
        "INSERT INTO beneficiary_partner_data(partner_id,partner,village,beneficiaries,beneficiary_type) VALUES(24,'CESVI','Bayaxawo','1260','Individuals');\n",
        "INSERT INTO beneficiary_partner_data(partner_id,partner,village,beneficiaries,beneficiary_type) VALUES(25,'CESVI','Dharkenley','7880','Individuals');\n",
        "INSERT INTO beneficiary_partner_data(partner_id,partner,village,beneficiaries,beneficiary_type) VALUES(26,'IRC','Dharkenley','34','Households');\n",
        "INSERT INTO beneficiary_partner_data(partner_id,partner,village,beneficiaries,beneficiary_type) VALUES(27,'SCI','Bulo-Kahin','4300','Individuals');\n",
        "INSERT INTO beneficiary_partner_data(partner_id,partner,village,beneficiaries,beneficiary_type) VALUES(28,'IMC','Bulo-Kahin','4212','Individuals');\n",
        "INSERT INTO beneficiary_partner_data(partner_id,partner,village,beneficiaries,beneficiary_type) VALUES(29,'IRC','Bulo-Kahin','3200','Individuals');\n",
        "INSERT INTO beneficiary_partner_data(partner_id,partner,village,beneficiaries,beneficiary_type) VALUES(30,'IRC','Hilo Kelyo','5212','Individuals');\n",
        "INSERT INTO beneficiary_partner_data(partner_id,partner,village,beneficiaries,beneficiary_type) VALUES(31,'SCI','Hilo Kelyo','25','Households');\n",
        "INSERT INTO beneficiary_partner_data(partner_id,partner,village,beneficiaries,beneficiary_type) VALUES(32,'CESVI','Xubow','2157','Individuals');\n",
        "INSERT INTO beneficiary_partner_data(partner_id,partner,village,beneficiaries,beneficiary_type) VALUES(33,'IMC','Xiintooy','1667','Individuals');\n",
        "INSERT INTO beneficiary_partner_data(partner_id,partner,village,beneficiaries,beneficiary_type) VALUES(34,'IRC','Xiintooy','2667','Individuals');\n",
        "INSERT INTO beneficiary_partner_data(partner_id,partner,village,beneficiaries,beneficiary_type) VALUES(35,'CESVI','Dhagax Jebis','2856','Individuals');\n",
        "INSERT INTO beneficiary_partner_data(partner_id,partner,village,beneficiaries,beneficiary_type) VALUES(36,'CESVI','Filtare','7519','Individuals');\n",
        "INSERT INTO beneficiary_partner_data(partner_id,partner,village,beneficiaries,beneficiary_type) VALUES(37,'CESVI','Howl-Wadaag','6870','Individuals');\n",
        "INSERT INTO beneficiary_partner_data(partner_id,partner,village,beneficiaries,beneficiary_type) VALUES(38,'IMC','Howl-Wadaag','32','Households');\n"
      ],
      "metadata": {
        "colab": {
          "base_uri": "https://localhost:8080/"
        },
        "id": "Z115qCKXSRgE",
        "outputId": "48bea9e0-5710-4b46-9169-341d9283f073"
      },
      "execution_count": 10,
      "outputs": [
        {
          "output_type": "stream",
          "name": "stdout",
          "text": [
            " * sqlite:///Project1.db\n",
            "1 rows affected.\n",
            "1 rows affected.\n",
            "1 rows affected.\n",
            "1 rows affected.\n",
            "1 rows affected.\n",
            "1 rows affected.\n",
            "1 rows affected.\n",
            "1 rows affected.\n",
            "1 rows affected.\n",
            "1 rows affected.\n",
            "1 rows affected.\n",
            "1 rows affected.\n",
            "1 rows affected.\n",
            "1 rows affected.\n",
            "1 rows affected.\n",
            "1 rows affected.\n",
            "1 rows affected.\n",
            "1 rows affected.\n",
            "1 rows affected.\n",
            "1 rows affected.\n",
            "1 rows affected.\n",
            "1 rows affected.\n",
            "1 rows affected.\n",
            "1 rows affected.\n",
            "1 rows affected.\n",
            "1 rows affected.\n",
            "1 rows affected.\n",
            "1 rows affected.\n",
            "1 rows affected.\n",
            "1 rows affected.\n",
            "1 rows affected.\n",
            "1 rows affected.\n",
            "1 rows affected.\n",
            "1 rows affected.\n",
            "1 rows affected.\n",
            "1 rows affected.\n",
            "1 rows affected.\n",
            "1 rows affected.\n"
          ]
        },
        {
          "output_type": "execute_result",
          "data": {
            "text/plain": [
              "[]"
            ]
          },
          "metadata": {},
          "execution_count": 10
        }
      ]
    },
    {
      "cell_type": "code",
      "source": [
        "%%sql\n",
        "Select * from jurisdiction_hierarchy"
      ],
      "metadata": {
        "colab": {
          "base_uri": "https://localhost:8080/",
          "height": 460
        },
        "id": "p9BS8NZRl07d",
        "outputId": "3c474b66-f028-4c68-f8b7-9f0ddde39ec1"
      },
      "execution_count": 11,
      "outputs": [
        {
          "output_type": "stream",
          "name": "stdout",
          "text": [
            " * sqlite:///Project1.db\n",
            "Done.\n"
          ]
        },
        {
          "output_type": "execute_result",
          "data": {
            "text/plain": [
              "[(1, 'Middle Shabelle', 'Region', None),\n",
              " (2, 'Hiraan', 'Region', None),\n",
              " (3, 'Balcad', 'District', 'Middle Shabelle'),\n",
              " (4, 'Jowhar', 'District', 'Middle Shabelle'),\n",
              " (5, 'Beledweyn', 'District', 'Hiraan'),\n",
              " (6, 'Dharkenley', 'Village', 'Beledweyn'),\n",
              " (7, 'Bulo-Kahin', 'Village', 'Beledweyn'),\n",
              " (8, 'Hilo Kelyo', 'Village', 'Beledweyn'),\n",
              " (9, 'Xubow', 'Village', 'Beledweyn'),\n",
              " (10, 'Xiintooy', 'Village', 'Beledweyn'),\n",
              " (11, 'Dhagax Jebis', 'Village', 'Beledweyn'),\n",
              " (12, 'Filtare', 'Village', 'Beledweyn'),\n",
              " (13, 'Howl-Wadaag', 'Village', 'Beledweyn'),\n",
              " (14, 'Balcad', 'Village', 'Balcad'),\n",
              " (15, 'Mareeray', 'Village', 'Balcad'),\n",
              " (16, 'Kulmis', 'Village', 'Balcad'),\n",
              " (17, 'Sabuun', 'Village', 'Jowhar'),\n",
              " (18, 'Bayaxaw', 'Village', 'Jowhar')]"
            ],
            "text/html": [
              "<table>\n",
              "    <thead>\n",
              "        <tr>\n",
              "            <th>jurisdiction_id</th>\n",
              "            <th>jurisdiction</th>\n",
              "            <th>jurisdiction_type</th>\n",
              "            <th>parent_jurisdiction</th>\n",
              "        </tr>\n",
              "    </thead>\n",
              "    <tbody>\n",
              "        <tr>\n",
              "            <td>1</td>\n",
              "            <td>Middle Shabelle</td>\n",
              "            <td>Region</td>\n",
              "            <td>None</td>\n",
              "        </tr>\n",
              "        <tr>\n",
              "            <td>2</td>\n",
              "            <td>Hiraan</td>\n",
              "            <td>Region</td>\n",
              "            <td>None</td>\n",
              "        </tr>\n",
              "        <tr>\n",
              "            <td>3</td>\n",
              "            <td>Balcad</td>\n",
              "            <td>District</td>\n",
              "            <td>Middle Shabelle</td>\n",
              "        </tr>\n",
              "        <tr>\n",
              "            <td>4</td>\n",
              "            <td>Jowhar</td>\n",
              "            <td>District</td>\n",
              "            <td>Middle Shabelle</td>\n",
              "        </tr>\n",
              "        <tr>\n",
              "            <td>5</td>\n",
              "            <td>Beledweyn</td>\n",
              "            <td>District</td>\n",
              "            <td>Hiraan</td>\n",
              "        </tr>\n",
              "        <tr>\n",
              "            <td>6</td>\n",
              "            <td>Dharkenley</td>\n",
              "            <td>Village</td>\n",
              "            <td>Beledweyn</td>\n",
              "        </tr>\n",
              "        <tr>\n",
              "            <td>7</td>\n",
              "            <td>Bulo-Kahin</td>\n",
              "            <td>Village</td>\n",
              "            <td>Beledweyn</td>\n",
              "        </tr>\n",
              "        <tr>\n",
              "            <td>8</td>\n",
              "            <td>Hilo Kelyo</td>\n",
              "            <td>Village</td>\n",
              "            <td>Beledweyn</td>\n",
              "        </tr>\n",
              "        <tr>\n",
              "            <td>9</td>\n",
              "            <td>Xubow</td>\n",
              "            <td>Village</td>\n",
              "            <td>Beledweyn</td>\n",
              "        </tr>\n",
              "        <tr>\n",
              "            <td>10</td>\n",
              "            <td>Xiintooy</td>\n",
              "            <td>Village</td>\n",
              "            <td>Beledweyn</td>\n",
              "        </tr>\n",
              "        <tr>\n",
              "            <td>11</td>\n",
              "            <td>Dhagax Jebis</td>\n",
              "            <td>Village</td>\n",
              "            <td>Beledweyn</td>\n",
              "        </tr>\n",
              "        <tr>\n",
              "            <td>12</td>\n",
              "            <td>Filtare</td>\n",
              "            <td>Village</td>\n",
              "            <td>Beledweyn</td>\n",
              "        </tr>\n",
              "        <tr>\n",
              "            <td>13</td>\n",
              "            <td>Howl-Wadaag</td>\n",
              "            <td>Village</td>\n",
              "            <td>Beledweyn</td>\n",
              "        </tr>\n",
              "        <tr>\n",
              "            <td>14</td>\n",
              "            <td>Balcad</td>\n",
              "            <td>Village</td>\n",
              "            <td>Balcad</td>\n",
              "        </tr>\n",
              "        <tr>\n",
              "            <td>15</td>\n",
              "            <td>Mareeray</td>\n",
              "            <td>Village</td>\n",
              "            <td>Balcad</td>\n",
              "        </tr>\n",
              "        <tr>\n",
              "            <td>16</td>\n",
              "            <td>Kulmis</td>\n",
              "            <td>Village</td>\n",
              "            <td>Balcad</td>\n",
              "        </tr>\n",
              "        <tr>\n",
              "            <td>17</td>\n",
              "            <td>Sabuun</td>\n",
              "            <td>Village</td>\n",
              "            <td>Jowhar</td>\n",
              "        </tr>\n",
              "        <tr>\n",
              "            <td>18</td>\n",
              "            <td>Bayaxaw</td>\n",
              "            <td>Village</td>\n",
              "            <td>Jowhar</td>\n",
              "        </tr>\n",
              "    </tbody>\n",
              "</table>"
            ]
          },
          "metadata": {},
          "execution_count": 11
        }
      ]
    },
    {
      "cell_type": "code",
      "source": [
        "%%sql\n",
        "Select * from village_locations"
      ],
      "metadata": {
        "colab": {
          "base_uri": "https://localhost:8080/",
          "height": 374
        },
        "id": "ZAKBTjb2m5Cz",
        "outputId": "6947a14c-8196-4a1f-c1b2-8289521818ee"
      },
      "execution_count": 12,
      "outputs": [
        {
          "output_type": "stream",
          "name": "stdout",
          "text": [
            " * sqlite:///Project1.db\n",
            "Done.\n"
          ]
        },
        {
          "output_type": "execute_result",
          "data": {
            "text/plain": [
              "[(1, 'Dharkenley', '4°47\\'35.40\"', '45°12\\'28.80\"', 12800),\n",
              " (2, 'Bulo-Kahin', '4°47\\'57.00\"', '45°11\\'5.70\"', 9485),\n",
              " (3, 'Hilo Kelyo', '4°47\\'57.00\"', '45°12\\'58.60\"', 5212),\n",
              " (4, 'Xubow', '4°46\\'46.77\"', '45°12\\'7.57\"', 2558),\n",
              " (5, 'Xiintooy', '4°44\\'14.40\"', '45°13\\'5.00\"', 3850),\n",
              " (6, 'Dhagax Jebis', '4°44\\'27.86\"', '45°12\\'42.03\"', 3563),\n",
              " (7, 'Filtare', '4°44\\'20.43\"', '45°12\\'27.89\"', 8000),\n",
              " (8, 'Howl-Wadaag', '4°43\\'50.00\"', '45°11\\'58.20\"', 7525),\n",
              " (9, 'Balcad', \"2°21.624'\", \"45°23.928'\", 1500),\n",
              " (10, 'Mareeray', \"2°23.504'\", \"45°25.200'\", 7500),\n",
              " (11, 'Kulmis', \"2°36.761'\", \"45°30.642'\", 6058),\n",
              " (12, 'Sabuun', \"2°53.020'\", \"45°32.356'\", 5483),\n",
              " (13, 'Bayaxaw', \"2°44.768'\", \"45°29.727'\", 3000),\n",
              " (14, 'Bayaxawo', \"2°44.768'\", \"45°29.926'\", 7560)]"
            ],
            "text/html": [
              "<table>\n",
              "    <thead>\n",
              "        <tr>\n",
              "            <th>village_id</th>\n",
              "            <th>village</th>\n",
              "            <th>latitude</th>\n",
              "            <th>longitude</th>\n",
              "            <th>total_population</th>\n",
              "        </tr>\n",
              "    </thead>\n",
              "    <tbody>\n",
              "        <tr>\n",
              "            <td>1</td>\n",
              "            <td>Dharkenley</td>\n",
              "            <td>4°47&#x27;35.40&quot;</td>\n",
              "            <td>45°12&#x27;28.80&quot;</td>\n",
              "            <td>12800</td>\n",
              "        </tr>\n",
              "        <tr>\n",
              "            <td>2</td>\n",
              "            <td>Bulo-Kahin</td>\n",
              "            <td>4°47&#x27;57.00&quot;</td>\n",
              "            <td>45°11&#x27;5.70&quot;</td>\n",
              "            <td>9485</td>\n",
              "        </tr>\n",
              "        <tr>\n",
              "            <td>3</td>\n",
              "            <td>Hilo Kelyo</td>\n",
              "            <td>4°47&#x27;57.00&quot;</td>\n",
              "            <td>45°12&#x27;58.60&quot;</td>\n",
              "            <td>5212</td>\n",
              "        </tr>\n",
              "        <tr>\n",
              "            <td>4</td>\n",
              "            <td>Xubow</td>\n",
              "            <td>4°46&#x27;46.77&quot;</td>\n",
              "            <td>45°12&#x27;7.57&quot;</td>\n",
              "            <td>2558</td>\n",
              "        </tr>\n",
              "        <tr>\n",
              "            <td>5</td>\n",
              "            <td>Xiintooy</td>\n",
              "            <td>4°44&#x27;14.40&quot;</td>\n",
              "            <td>45°13&#x27;5.00&quot;</td>\n",
              "            <td>3850</td>\n",
              "        </tr>\n",
              "        <tr>\n",
              "            <td>6</td>\n",
              "            <td>Dhagax Jebis</td>\n",
              "            <td>4°44&#x27;27.86&quot;</td>\n",
              "            <td>45°12&#x27;42.03&quot;</td>\n",
              "            <td>3563</td>\n",
              "        </tr>\n",
              "        <tr>\n",
              "            <td>7</td>\n",
              "            <td>Filtare</td>\n",
              "            <td>4°44&#x27;20.43&quot;</td>\n",
              "            <td>45°12&#x27;27.89&quot;</td>\n",
              "            <td>8000</td>\n",
              "        </tr>\n",
              "        <tr>\n",
              "            <td>8</td>\n",
              "            <td>Howl-Wadaag</td>\n",
              "            <td>4°43&#x27;50.00&quot;</td>\n",
              "            <td>45°11&#x27;58.20&quot;</td>\n",
              "            <td>7525</td>\n",
              "        </tr>\n",
              "        <tr>\n",
              "            <td>9</td>\n",
              "            <td>Balcad</td>\n",
              "            <td>2°21.624&#x27;</td>\n",
              "            <td>45°23.928&#x27;</td>\n",
              "            <td>1500</td>\n",
              "        </tr>\n",
              "        <tr>\n",
              "            <td>10</td>\n",
              "            <td>Mareeray</td>\n",
              "            <td>2°23.504&#x27;</td>\n",
              "            <td>45°25.200&#x27;</td>\n",
              "            <td>7500</td>\n",
              "        </tr>\n",
              "        <tr>\n",
              "            <td>11</td>\n",
              "            <td>Kulmis</td>\n",
              "            <td>2°36.761&#x27;</td>\n",
              "            <td>45°30.642&#x27;</td>\n",
              "            <td>6058</td>\n",
              "        </tr>\n",
              "        <tr>\n",
              "            <td>12</td>\n",
              "            <td>Sabuun</td>\n",
              "            <td>2°53.020&#x27;</td>\n",
              "            <td>45°32.356&#x27;</td>\n",
              "            <td>5483</td>\n",
              "        </tr>\n",
              "        <tr>\n",
              "            <td>13</td>\n",
              "            <td>Bayaxaw</td>\n",
              "            <td>2°44.768&#x27;</td>\n",
              "            <td>45°29.727&#x27;</td>\n",
              "            <td>3000</td>\n",
              "        </tr>\n",
              "        <tr>\n",
              "            <td>14</td>\n",
              "            <td>Bayaxawo</td>\n",
              "            <td>2°44.768&#x27;</td>\n",
              "            <td>45°29.926&#x27;</td>\n",
              "            <td>7560</td>\n",
              "        </tr>\n",
              "    </tbody>\n",
              "</table>"
            ]
          },
          "metadata": {},
          "execution_count": 12
        }
      ]
    },
    {
      "cell_type": "code",
      "source": [
        "%%sql\n",
        "Select * from beneficiary_partner_data"
      ],
      "metadata": {
        "colab": {
          "base_uri": "https://localhost:8080/",
          "height": 887
        },
        "id": "0VHo-2ZanWE3",
        "outputId": "05f52209-25f2-4ef5-d4c2-bf070606855b"
      },
      "execution_count": 13,
      "outputs": [
        {
          "output_type": "stream",
          "name": "stdout",
          "text": [
            " * sqlite:///Project1.db\n",
            "Done.\n"
          ]
        },
        {
          "output_type": "execute_result",
          "data": {
            "text/plain": [
              "[(1, 'IRC', 'Balcad', 1450, 'Individuals'),\n",
              " (2, 'NRC', 'Balcad', 50, 'Households'),\n",
              " (3, 'SCI', 'Balcad', 1123, 'Individuals'),\n",
              " (4, 'IMC', 'Balcad', 1245, 'Individuals'),\n",
              " (5, 'SCI', 'Mareeray', 5200, 'Individuals'),\n",
              " (6, 'IMC', 'Mareeray', 70, 'Households'),\n",
              " (7, 'IRC', 'Mareeray', 2100, 'Individuals'),\n",
              " (8, 'CESVI', 'Mareeray', 1800, 'Individuals'),\n",
              " (9, 'SCI', 'Kulmis', 1340, 'Individuals'),\n",
              " (10, 'IMC', 'Kulmis', 55, 'Households'),\n",
              " (11, 'SCI', 'Kulmis', 4500, 'Individuals'),\n",
              " (12, 'IMC', 'Kulmis', 1670, 'Individuals'),\n",
              " (13, 'IMC', 'Sabuun', 1340, 'Individuals'),\n",
              " (14, 'IRC', 'Sabuun', 66, 'Households'),\n",
              " (15, 'CESVI', 'Sabuun', 4090, 'Individuals'),\n",
              " (16, 'SCI', 'Sabuun', 2930, 'Individuals'),\n",
              " (17, 'IMC', 'Bayaxaw', 2800, 'Individuals'),\n",
              " (18, 'IRC', 'Bayaxaw', 2100, 'Individuals'),\n",
              " (19, 'CESVI', 'Bayaxaw', 45, 'Households'),\n",
              " (20, 'SCI', 'Bayaxaw', 1700, 'Individuals'),\n",
              " (21, 'SCI', 'Bayaxawo', 5900, 'Individuals'),\n",
              " (22, 'IMC', 'Bayaxawo', 40, 'Households'),\n",
              " (23, 'IRC', 'Bayaxawo', 1500, 'Individuals'),\n",
              " (24, 'CESVI', 'Bayaxawo', 1260, 'Individuals'),\n",
              " (25, 'CESVI', 'Dharkenley', 7880, 'Individuals'),\n",
              " (26, 'IRC', 'Dharkenley', 34, 'Households'),\n",
              " (27, 'SCI', 'Bulo-Kahin', 4300, 'Individuals'),\n",
              " (28, 'IMC', 'Bulo-Kahin', 4212, 'Individuals'),\n",
              " (29, 'IRC', 'Bulo-Kahin', 3200, 'Individuals'),\n",
              " (30, 'IRC', 'Hilo Kelyo', 5212, 'Individuals'),\n",
              " (31, 'SCI', 'Hilo Kelyo', 25, 'Households'),\n",
              " (32, 'CESVI', 'Xubow', 2157, 'Individuals'),\n",
              " (33, 'IMC', 'Xiintooy', 1667, 'Individuals'),\n",
              " (34, 'IRC', 'Xiintooy', 2667, 'Individuals'),\n",
              " (35, 'CESVI', 'Dhagax Jebis', 2856, 'Individuals'),\n",
              " (36, 'CESVI', 'Filtare', 7519, 'Individuals'),\n",
              " (37, 'CESVI', 'Howl-Wadaag', 6870, 'Individuals'),\n",
              " (38, 'IMC', 'Howl-Wadaag', 32, 'Households')]"
            ],
            "text/html": [
              "<table>\n",
              "    <thead>\n",
              "        <tr>\n",
              "            <th>partner_id</th>\n",
              "            <th>partner</th>\n",
              "            <th>village</th>\n",
              "            <th>beneficiaries</th>\n",
              "            <th>beneficiary_type</th>\n",
              "        </tr>\n",
              "    </thead>\n",
              "    <tbody>\n",
              "        <tr>\n",
              "            <td>1</td>\n",
              "            <td>IRC</td>\n",
              "            <td>Balcad</td>\n",
              "            <td>1450</td>\n",
              "            <td>Individuals</td>\n",
              "        </tr>\n",
              "        <tr>\n",
              "            <td>2</td>\n",
              "            <td>NRC</td>\n",
              "            <td>Balcad</td>\n",
              "            <td>50</td>\n",
              "            <td>Households</td>\n",
              "        </tr>\n",
              "        <tr>\n",
              "            <td>3</td>\n",
              "            <td>SCI</td>\n",
              "            <td>Balcad</td>\n",
              "            <td>1123</td>\n",
              "            <td>Individuals</td>\n",
              "        </tr>\n",
              "        <tr>\n",
              "            <td>4</td>\n",
              "            <td>IMC</td>\n",
              "            <td>Balcad</td>\n",
              "            <td>1245</td>\n",
              "            <td>Individuals</td>\n",
              "        </tr>\n",
              "        <tr>\n",
              "            <td>5</td>\n",
              "            <td>SCI</td>\n",
              "            <td>Mareeray</td>\n",
              "            <td>5200</td>\n",
              "            <td>Individuals</td>\n",
              "        </tr>\n",
              "        <tr>\n",
              "            <td>6</td>\n",
              "            <td>IMC</td>\n",
              "            <td>Mareeray</td>\n",
              "            <td>70</td>\n",
              "            <td>Households</td>\n",
              "        </tr>\n",
              "        <tr>\n",
              "            <td>7</td>\n",
              "            <td>IRC</td>\n",
              "            <td>Mareeray</td>\n",
              "            <td>2100</td>\n",
              "            <td>Individuals</td>\n",
              "        </tr>\n",
              "        <tr>\n",
              "            <td>8</td>\n",
              "            <td>CESVI</td>\n",
              "            <td>Mareeray</td>\n",
              "            <td>1800</td>\n",
              "            <td>Individuals</td>\n",
              "        </tr>\n",
              "        <tr>\n",
              "            <td>9</td>\n",
              "            <td>SCI</td>\n",
              "            <td>Kulmis</td>\n",
              "            <td>1340</td>\n",
              "            <td>Individuals</td>\n",
              "        </tr>\n",
              "        <tr>\n",
              "            <td>10</td>\n",
              "            <td>IMC</td>\n",
              "            <td>Kulmis</td>\n",
              "            <td>55</td>\n",
              "            <td>Households</td>\n",
              "        </tr>\n",
              "        <tr>\n",
              "            <td>11</td>\n",
              "            <td>SCI</td>\n",
              "            <td>Kulmis</td>\n",
              "            <td>4500</td>\n",
              "            <td>Individuals</td>\n",
              "        </tr>\n",
              "        <tr>\n",
              "            <td>12</td>\n",
              "            <td>IMC</td>\n",
              "            <td>Kulmis</td>\n",
              "            <td>1670</td>\n",
              "            <td>Individuals</td>\n",
              "        </tr>\n",
              "        <tr>\n",
              "            <td>13</td>\n",
              "            <td>IMC</td>\n",
              "            <td>Sabuun</td>\n",
              "            <td>1340</td>\n",
              "            <td>Individuals</td>\n",
              "        </tr>\n",
              "        <tr>\n",
              "            <td>14</td>\n",
              "            <td>IRC</td>\n",
              "            <td>Sabuun</td>\n",
              "            <td>66</td>\n",
              "            <td>Households</td>\n",
              "        </tr>\n",
              "        <tr>\n",
              "            <td>15</td>\n",
              "            <td>CESVI</td>\n",
              "            <td>Sabuun</td>\n",
              "            <td>4090</td>\n",
              "            <td>Individuals</td>\n",
              "        </tr>\n",
              "        <tr>\n",
              "            <td>16</td>\n",
              "            <td>SCI</td>\n",
              "            <td>Sabuun</td>\n",
              "            <td>2930</td>\n",
              "            <td>Individuals</td>\n",
              "        </tr>\n",
              "        <tr>\n",
              "            <td>17</td>\n",
              "            <td>IMC</td>\n",
              "            <td>Bayaxaw</td>\n",
              "            <td>2800</td>\n",
              "            <td>Individuals</td>\n",
              "        </tr>\n",
              "        <tr>\n",
              "            <td>18</td>\n",
              "            <td>IRC</td>\n",
              "            <td>Bayaxaw</td>\n",
              "            <td>2100</td>\n",
              "            <td>Individuals</td>\n",
              "        </tr>\n",
              "        <tr>\n",
              "            <td>19</td>\n",
              "            <td>CESVI</td>\n",
              "            <td>Bayaxaw</td>\n",
              "            <td>45</td>\n",
              "            <td>Households</td>\n",
              "        </tr>\n",
              "        <tr>\n",
              "            <td>20</td>\n",
              "            <td>SCI</td>\n",
              "            <td>Bayaxaw</td>\n",
              "            <td>1700</td>\n",
              "            <td>Individuals</td>\n",
              "        </tr>\n",
              "        <tr>\n",
              "            <td>21</td>\n",
              "            <td>SCI</td>\n",
              "            <td>Bayaxawo</td>\n",
              "            <td>5900</td>\n",
              "            <td>Individuals</td>\n",
              "        </tr>\n",
              "        <tr>\n",
              "            <td>22</td>\n",
              "            <td>IMC</td>\n",
              "            <td>Bayaxawo</td>\n",
              "            <td>40</td>\n",
              "            <td>Households</td>\n",
              "        </tr>\n",
              "        <tr>\n",
              "            <td>23</td>\n",
              "            <td>IRC</td>\n",
              "            <td>Bayaxawo</td>\n",
              "            <td>1500</td>\n",
              "            <td>Individuals</td>\n",
              "        </tr>\n",
              "        <tr>\n",
              "            <td>24</td>\n",
              "            <td>CESVI</td>\n",
              "            <td>Bayaxawo</td>\n",
              "            <td>1260</td>\n",
              "            <td>Individuals</td>\n",
              "        </tr>\n",
              "        <tr>\n",
              "            <td>25</td>\n",
              "            <td>CESVI</td>\n",
              "            <td>Dharkenley</td>\n",
              "            <td>7880</td>\n",
              "            <td>Individuals</td>\n",
              "        </tr>\n",
              "        <tr>\n",
              "            <td>26</td>\n",
              "            <td>IRC</td>\n",
              "            <td>Dharkenley</td>\n",
              "            <td>34</td>\n",
              "            <td>Households</td>\n",
              "        </tr>\n",
              "        <tr>\n",
              "            <td>27</td>\n",
              "            <td>SCI</td>\n",
              "            <td>Bulo-Kahin</td>\n",
              "            <td>4300</td>\n",
              "            <td>Individuals</td>\n",
              "        </tr>\n",
              "        <tr>\n",
              "            <td>28</td>\n",
              "            <td>IMC</td>\n",
              "            <td>Bulo-Kahin</td>\n",
              "            <td>4212</td>\n",
              "            <td>Individuals</td>\n",
              "        </tr>\n",
              "        <tr>\n",
              "            <td>29</td>\n",
              "            <td>IRC</td>\n",
              "            <td>Bulo-Kahin</td>\n",
              "            <td>3200</td>\n",
              "            <td>Individuals</td>\n",
              "        </tr>\n",
              "        <tr>\n",
              "            <td>30</td>\n",
              "            <td>IRC</td>\n",
              "            <td>Hilo Kelyo</td>\n",
              "            <td>5212</td>\n",
              "            <td>Individuals</td>\n",
              "        </tr>\n",
              "        <tr>\n",
              "            <td>31</td>\n",
              "            <td>SCI</td>\n",
              "            <td>Hilo Kelyo</td>\n",
              "            <td>25</td>\n",
              "            <td>Households</td>\n",
              "        </tr>\n",
              "        <tr>\n",
              "            <td>32</td>\n",
              "            <td>CESVI</td>\n",
              "            <td>Xubow</td>\n",
              "            <td>2157</td>\n",
              "            <td>Individuals</td>\n",
              "        </tr>\n",
              "        <tr>\n",
              "            <td>33</td>\n",
              "            <td>IMC</td>\n",
              "            <td>Xiintooy</td>\n",
              "            <td>1667</td>\n",
              "            <td>Individuals</td>\n",
              "        </tr>\n",
              "        <tr>\n",
              "            <td>34</td>\n",
              "            <td>IRC</td>\n",
              "            <td>Xiintooy</td>\n",
              "            <td>2667</td>\n",
              "            <td>Individuals</td>\n",
              "        </tr>\n",
              "        <tr>\n",
              "            <td>35</td>\n",
              "            <td>CESVI</td>\n",
              "            <td>Dhagax Jebis</td>\n",
              "            <td>2856</td>\n",
              "            <td>Individuals</td>\n",
              "        </tr>\n",
              "        <tr>\n",
              "            <td>36</td>\n",
              "            <td>CESVI</td>\n",
              "            <td>Filtare</td>\n",
              "            <td>7519</td>\n",
              "            <td>Individuals</td>\n",
              "        </tr>\n",
              "        <tr>\n",
              "            <td>37</td>\n",
              "            <td>CESVI</td>\n",
              "            <td>Howl-Wadaag</td>\n",
              "            <td>6870</td>\n",
              "            <td>Individuals</td>\n",
              "        </tr>\n",
              "        <tr>\n",
              "            <td>38</td>\n",
              "            <td>IMC</td>\n",
              "            <td>Howl-Wadaag</td>\n",
              "            <td>32</td>\n",
              "            <td>Households</td>\n",
              "        </tr>\n",
              "    </tbody>\n",
              "</table>"
            ]
          },
          "metadata": {},
          "execution_count": 13
        }
      ]
    },
    {
      "cell_type": "code",
      "source": [
        "%%sql\n",
        "\n",
        "    SELECT jh.jurisdiction AS District_Name, jh.parent_jurisdiction AS Region_Name\n",
        "    FROM jurisdiction_hierarchy jh\n",
        "    WHERE jh.jurisdiction_type = 'District'\n",
        "    GROUP BY jh.jurisdiction;"
      ],
      "metadata": {
        "colab": {
          "base_uri": "https://localhost:8080/",
          "height": 139
        },
        "id": "3yH-vHy-o-o1",
        "outputId": "3a64257f-1921-4b18-8570-e8d8a1469a7b"
      },
      "execution_count": 14,
      "outputs": [
        {
          "output_type": "stream",
          "name": "stdout",
          "text": [
            " * sqlite:///Project1.db\n",
            "Done.\n"
          ]
        },
        {
          "output_type": "execute_result",
          "data": {
            "text/plain": [
              "[('Balcad', 'Middle Shabelle'),\n",
              " ('Beledweyn', 'Hiraan'),\n",
              " ('Jowhar', 'Middle Shabelle')]"
            ],
            "text/html": [
              "<table>\n",
              "    <thead>\n",
              "        <tr>\n",
              "            <th>District_Name</th>\n",
              "            <th>Region_Name</th>\n",
              "        </tr>\n",
              "    </thead>\n",
              "    <tbody>\n",
              "        <tr>\n",
              "            <td>Balcad</td>\n",
              "            <td>Middle Shabelle</td>\n",
              "        </tr>\n",
              "        <tr>\n",
              "            <td>Beledweyn</td>\n",
              "            <td>Hiraan</td>\n",
              "        </tr>\n",
              "        <tr>\n",
              "            <td>Jowhar</td>\n",
              "            <td>Middle Shabelle</td>\n",
              "        </tr>\n",
              "    </tbody>\n",
              "</table>"
            ]
          },
          "metadata": {},
          "execution_count": 14
        }
      ]
    },
    {
      "cell_type": "code",
      "source": [
        "%%sql\n",
        "CREATE TABLE District_summary AS\n",
        "SELECT\n",
        "    jh.jurisdiction AS District_Name, jh.parent_jurisdiction AS Region_Name,\n",
        "    SUM(CASE WHEN jh.jurisdiction_type = 'Village' THEN bp.beneficiaries ELSE 0 END) AS No_of_Individual_Beneficiaries,\n",
        "    SUM(CASE WHEN jh.jurisdiction_type = 'Village' THEN bp.beneficiaries ELSE 0 END) / NULLIF(SUM(CASE WHEN jh.jurisdiction_type = 'Village' THEN vl.total_population ELSE 0 END), 0) AS Beneficiaries_Percentage\n",
        "FROM\n",
        "    Jurisdiction_Hierarchy jh\n",
        "LEFT JOIN\n",
        "    beneficiary_partner_data bp ON jh.jurisdiction = bp.village\n",
        "LEFT JOIN village_locations vl ON bp.village = vl.total_population\n",
        "WHERE\n",
        "    jh.jurisdiction_type IN ('Village')\n",
        "GROUP BY\n",
        "    jh.parent_jurisdiction;"
      ],
      "metadata": {
        "colab": {
          "base_uri": "https://localhost:8080/"
        },
        "id": "C3DPLbaN0cnP",
        "outputId": "780eb9e7-a00f-49fd-a1a9-bd53a7ffd82d"
      },
      "execution_count": 31,
      "outputs": [
        {
          "output_type": "stream",
          "name": "stdout",
          "text": [
            " * sqlite:///Project1.db\n",
            "Done.\n"
          ]
        },
        {
          "output_type": "execute_result",
          "data": {
            "text/plain": [
              "[]"
            ]
          },
          "metadata": {},
          "execution_count": 31
        }
      ]
    },
    {
      "cell_type": "code",
      "source": [
        "%%sql\n",
        "DROP TABLE district_summary"
      ],
      "metadata": {
        "colab": {
          "base_uri": "https://localhost:8080/"
        },
        "id": "BfayXCxN24qC",
        "outputId": "f613ae81-b014-449f-d6f0-85be7116569e"
      },
      "execution_count": 30,
      "outputs": [
        {
          "output_type": "stream",
          "name": "stdout",
          "text": [
            " * sqlite:///Project1.db\n",
            "Done.\n"
          ]
        },
        {
          "output_type": "execute_result",
          "data": {
            "text/plain": [
              "[]"
            ]
          },
          "metadata": {},
          "execution_count": 30
        }
      ]
    },
    {
      "cell_type": "code",
      "source": [
        "%%sql\n",
        "select * from district_summary"
      ],
      "metadata": {
        "colab": {
          "base_uri": "https://localhost:8080/",
          "height": 139
        },
        "id": "Slkmgcdq2gOc",
        "outputId": "e628349a-154b-40d5-c43d-d478d0b3f4a3"
      },
      "execution_count": 32,
      "outputs": [
        {
          "output_type": "stream",
          "name": "stdout",
          "text": [
            " * sqlite:///Project1.db\n",
            "Done.\n"
          ]
        },
        {
          "output_type": "execute_result",
          "data": {
            "text/plain": [
              "[('Balcad', 'Balcad', 20603, None),\n",
              " ('Dharkenley', 'Beledweyn', 48631, None),\n",
              " ('Sabuun', 'Jowhar', 15071, None)]"
            ],
            "text/html": [
              "<table>\n",
              "    <thead>\n",
              "        <tr>\n",
              "            <th>District_Name</th>\n",
              "            <th>Region_Name</th>\n",
              "            <th>No_of_Individual_Beneficiaries</th>\n",
              "            <th>Beneficiaries_Percentage</th>\n",
              "        </tr>\n",
              "    </thead>\n",
              "    <tbody>\n",
              "        <tr>\n",
              "            <td>Balcad</td>\n",
              "            <td>Balcad</td>\n",
              "            <td>20603</td>\n",
              "            <td>None</td>\n",
              "        </tr>\n",
              "        <tr>\n",
              "            <td>Dharkenley</td>\n",
              "            <td>Beledweyn</td>\n",
              "            <td>48631</td>\n",
              "            <td>None</td>\n",
              "        </tr>\n",
              "        <tr>\n",
              "            <td>Sabuun</td>\n",
              "            <td>Jowhar</td>\n",
              "            <td>15071</td>\n",
              "            <td>None</td>\n",
              "        </tr>\n",
              "    </tbody>\n",
              "</table>"
            ]
          },
          "metadata": {},
          "execution_count": 32
        }
      ]
    },
    {
      "cell_type": "code",
      "source": [
        "%%sql\n",
        "CREATE TABLE Partner_summary AS\n",
        "SELECT\n",
        "    bp.partner AS Partner_Name,\n",
        "    COUNT(DISTINCT bp.village) AS No_of_Villages_Reached,\n",
        "    COUNT(DISTINCT jh.parent_jurisdiction) AS No_of_Districts_Reached\n",
        "FROM\n",
        "    Beneficiary_Partner_Data bp\n",
        "LEFT JOIN\n",
        "    Jurisdiction_Hierarchy jh ON bp.village = jh.jurisdiction\n",
        "GROUP BY\n",
        "    bp.partner"
      ],
      "metadata": {
        "colab": {
          "base_uri": "https://localhost:8080/"
        },
        "id": "rh9REDj63xG9",
        "outputId": "58be0199-4d4c-4a9b-d350-cef8ae413754"
      },
      "execution_count": 37,
      "outputs": [
        {
          "output_type": "stream",
          "name": "stdout",
          "text": [
            " * sqlite:///Project1.db\n",
            "Done.\n"
          ]
        },
        {
          "output_type": "execute_result",
          "data": {
            "text/plain": [
              "[]"
            ]
          },
          "metadata": {},
          "execution_count": 37
        }
      ]
    },
    {
      "cell_type": "code",
      "source": [
        "%%sql\n",
        "Select * from Partner_summary"
      ],
      "metadata": {
        "colab": {
          "base_uri": "https://localhost:8080/",
          "height": 182
        },
        "id": "qn3uvGsq4SIq",
        "outputId": "b315d373-2def-493d-c095-9ed5701ef8d1"
      },
      "execution_count": 38,
      "outputs": [
        {
          "output_type": "stream",
          "name": "stdout",
          "text": [
            " * sqlite:///Project1.db\n",
            "Done.\n"
          ]
        },
        {
          "output_type": "execute_result",
          "data": {
            "text/plain": [
              "[('CESVI', 9, 3), ('IMC', 9, 4), ('IRC', 9, 4), ('NRC', 1, 2), ('SCI', 8, 4)]"
            ],
            "text/html": [
              "<table>\n",
              "    <thead>\n",
              "        <tr>\n",
              "            <th>Partner_Name</th>\n",
              "            <th>No_of_Villages_Reached</th>\n",
              "            <th>No_of_Districts_Reached</th>\n",
              "        </tr>\n",
              "    </thead>\n",
              "    <tbody>\n",
              "        <tr>\n",
              "            <td>CESVI</td>\n",
              "            <td>9</td>\n",
              "            <td>3</td>\n",
              "        </tr>\n",
              "        <tr>\n",
              "            <td>IMC</td>\n",
              "            <td>9</td>\n",
              "            <td>4</td>\n",
              "        </tr>\n",
              "        <tr>\n",
              "            <td>IRC</td>\n",
              "            <td>9</td>\n",
              "            <td>4</td>\n",
              "        </tr>\n",
              "        <tr>\n",
              "            <td>NRC</td>\n",
              "            <td>1</td>\n",
              "            <td>2</td>\n",
              "        </tr>\n",
              "        <tr>\n",
              "            <td>SCI</td>\n",
              "            <td>8</td>\n",
              "            <td>4</td>\n",
              "        </tr>\n",
              "    </tbody>\n",
              "</table>"
            ]
          },
          "metadata": {},
          "execution_count": 38
        }
      ]
    }
  ]
}