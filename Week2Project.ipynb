{
  "nbformat": 4,
  "nbformat_minor": 0,
  "metadata": {
    "colab": {
      "provenance": []
    },
    "kernelspec": {
      "name": "python3",
      "display_name": "Python 3"
    },
    "language_info": {
      "name": "python"
    }
  },
  "cells": [
    {
      "cell_type": "markdown",
      "source": [
        "# **Week 2 Project**"
      ],
      "metadata": {
        "id": "qeITBMx3fp7x"
      }
    },
    {
      "cell_type": "markdown",
      "source": [
        "**Question 1:**\n",
        "Using JOIN get the student names, school id, email, phone number (new_stud_details)"
      ],
      "metadata": {
        "id": "QZWjgMMIfof6"
      }
    },
    {
      "cell_type": "markdown",
      "source": [
        "**Answer:**\n",
        "\n",
        "\n",
        "```\n",
        "select \tpd.stud_name,\n",
        "\t\tcd.phone_number,\n",
        "        sd.stud_email,\n",
        "        pd.stud_ID\n",
        "FROM personal_details pd\n",
        "JOIN contact_details cd\n",
        "join school_details sd\n",
        "```\n",
        "\n"
      ],
      "metadata": {
        "id": "SNtwczbegazq"
      }
    },
    {
      "cell_type": "markdown",
      "source": [
        "**Question 2:** Create a table with all the details from contacts to school and financial details (full_stud_details)"
      ],
      "metadata": {
        "id": "-bKjGmaygxHq"
      }
    },
    {
      "cell_type": "markdown",
      "source": [
        "**Answer**\n",
        "\n",
        "\n",
        "```\n",
        "CREATE TABLE full_stud_details AS\n",
        "\tSELECT\tcd.stud_email,\n",
        "\t\t\tcd.phone_number,\n",
        "            cd.next_of_kin_name,\n",
        "            cd.next_of_kin_relation,\n",
        "            cd.next_of_kin_contacts,\n",
        "            fd.stud_ID,\n",
        "            fd.stud_name,\n",
        "            fd.sem_fee,\n",
        "            fd.fee_paid,\n",
        "            pd.age,\n",
        "            pd.gender,\n",
        "            sd.current_home_county,\n",
        "            sd.secondary_school_county,\n",
        "            sd.residence\n",
        "    \n",
        "\tFROM\n",
        "\t\tcontact_details cd,\n",
        "\t\tfinancial_details fd,\n",
        "\t\tpersonal_details pd,\n",
        "\t\tschool_details sd\n",
        "\t\t;\n",
        "        \n",
        "        select * from full_stud_details\n",
        "```\n",
        "\n"
      ],
      "metadata": {
        "id": "oOHfbOK6g9t6"
      }
    },
    {
      "cell_type": "markdown",
      "source": [
        "**Question 3** Add student names on any empty row of stud_name in financial_details"
      ],
      "metadata": {
        "id": "ZverPitMhzwm"
      }
    },
    {
      "cell_type": "markdown",
      "source": [
        "**Answer**\n",
        "\n",
        "\n",
        "```\n",
        "SET SQL_SAFE_UPDATES = 0;\n",
        "\n",
        "UPDATE financial_details\n",
        "SET stud_name = 'Douglas Kimathi'\n",
        "WHERE stud_name IS NULL;\n",
        "\n",
        "select\n",
        "\tstud_name\n",
        "from financial_details;\n",
        "```\n",
        "\n"
      ],
      "metadata": {
        "id": "EMoNboLYh-ks"
      }
    },
    {
      "cell_type": "markdown",
      "source": [
        "**Question 4:** On the financial_details table add a column, fee_cleared, that has True if student has cleared current fee and False if not (financial_details_view)"
      ],
      "metadata": {
        "id": "0qbyHuZpiMyK"
      }
    },
    {
      "cell_type": "markdown",
      "source": [
        "**Answer:**\n",
        "\n",
        "\n",
        "```\n",
        "SET SQL_SAFE_UPDATES = 0;\n",
        "ALTER TABLE financial_details\n",
        "ADD COLUMN fee_cleared BOOLEAN;\n",
        "\n",
        "UPDATE financial_details\n",
        "SET fee_cleared = (sem_fee = fee_paid);\n",
        "\n",
        "select *\n",
        "from financial_details;\n",
        "```\n",
        "\n"
      ],
      "metadata": {
        "id": "TptkOa41iXyZ"
      }
    },
    {
      "cell_type": "markdown",
      "source": [
        "**Question 5:** Get the national ID and name of all students who have cleared their fees (fee_cleared)"
      ],
      "metadata": {
        "id": "dUzzhZaZiiT_"
      }
    },
    {
      "cell_type": "markdown",
      "source": [
        "**Answer:**\n",
        "\n",
        "\n",
        "```\n",
        "select pd.national_ID, pd.stud_name\n",
        "from personal_details pd\n",
        "join financial_details fd\n",
        "where fd.fee_cleared = TRUE;\n",
        "```\n",
        "\n"
      ],
      "metadata": {
        "id": "8rnUhztKi0MQ"
      }
    },
    {
      "cell_type": "markdown",
      "source": [
        "**Question 6:** Get the total sum of fees paid so far and the total current deficit (total_fee_balance)\n"
      ],
      "metadata": {
        "id": "80Qu9shmi_fv"
      }
    },
    {
      "cell_type": "markdown",
      "source": [
        "**Answer:**\n",
        "\n",
        "\n",
        "```\n",
        "ALTER TABLE financial_details\n",
        "ADD COLUMN fee_balance int;\n",
        "\n",
        "UPDATE financial_details\n",
        "SET fee_balance = (sem_fee - fee_paid);\n",
        "\n",
        "SELECT\n",
        "    SUM(fee_paid) AS total_fees_paid,\n",
        "    SUM(fee_balance) AS total_current_deficit\n",
        "FROM financial_details;\n",
        "```\n",
        "\n"
      ],
      "metadata": {
        "id": "xS0sUCHvjOgD"
      }
    },
    {
      "cell_type": "markdown",
      "source": [
        "**Question 7:**\n",
        "Get the count of students who share a current home county i.e., Say Nairobi, get the number of students who’s current_home_county is Nairobi, and so on for all available counties (home_county_count)\n"
      ],
      "metadata": {
        "id": "A9y9fmlPjiEi"
      }
    },
    {
      "cell_type": "markdown",
      "source": [
        "**Answer:**\n",
        "\n",
        "\n",
        "```\n",
        "SELECT current_home_county, COUNT(*) AS student_count\n",
        "FROM school_details\n",
        "GROUP BY current_home_county\n",
        "ORDER BY current_home_county;\n",
        "```\n",
        "\n"
      ],
      "metadata": {
        "id": "or0o6qZJjr5o"
      }
    },
    {
      "cell_type": "markdown",
      "source": [
        "**Question 8:**\n",
        "Get the count of Male and/or Female students from each secondary_school_county (secondary_school_count). The table should contain a column for male student count and female student count for each county."
      ],
      "metadata": {
        "id": "8vDylT53j1FI"
      }
    },
    {
      "cell_type": "markdown",
      "source": [
        "**Answer:**\n",
        "\n",
        "\n",
        "```\n",
        "SELECT\n",
        "    secondary_school_county,\n",
        "    SUM(CASE WHEN pd.gender = 'Male' THEN 1 ELSE 0 END) AS male_student_count,\n",
        "    SUM(CASE WHEN pd.gender = 'Female' THEN 1 ELSE 0 END) AS female_student_count\n",
        "FROM school_details\n",
        "JOIN personal_details pd\n",
        "GROUP BY secondary_school_county\n",
        "ORDER BY secondary_school_county;\n",
        "```\n",
        "\n"
      ],
      "metadata": {
        "id": "fIuah2SQkVHJ"
      }
    },
    {
      "cell_type": "markdown",
      "source": [
        "**Question 9:**\n",
        "Get the percentage of students who set their next_of_kin as Mother vs those that set it as Father1. (kin_percentage)"
      ],
      "metadata": {
        "id": "gakQ1ds5kjmw"
      }
    },
    {
      "cell_type": "markdown",
      "source": [
        "**Answer:**\n",
        "\n",
        "\n",
        "```\n",
        "SELECT\n",
        "    (SUM(CASE WHEN next_of_kin_relation = 'Mother' THEN 1 ELSE 0 END) * 100.0) /\n",
        "    (SUM(CASE WHEN next_of_kin_relation IN ('Mother', 'Father') THEN 1 ELSE 0 END)) AS kin_percentage\n",
        "FROM contact_details;\n",
        "```\n",
        "\n"
      ],
      "metadata": {
        "id": "gYZsNXsYlesG"
      }
    }
  ]
}